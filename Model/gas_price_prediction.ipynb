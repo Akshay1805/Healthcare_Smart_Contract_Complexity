{
  "nbformat": 4,
  "nbformat_minor": 0,
  "metadata": {
    "colab": {
      "provenance": []
    },
    "kernelspec": {
      "name": "python3",
      "display_name": "Python 3"
    },
    "language_info": {
      "name": "python"
    }
  },
  "cells": [
    {
      "cell_type": "markdown",
      "source": [
        "#Fetch and Store DataSet"
      ],
      "metadata": {
        "id": "yRrMM5SynUhG"
      }
    },
    {
      "cell_type": "code",
      "execution_count": null,
      "metadata": {
        "colab": {
          "base_uri": "https://localhost:8080/"
        },
        "id": "aUyxsl__8g1e",
        "outputId": "9653688a-6f6d-4940-eea0-46f5235fea10"
      },
      "outputs": [
        {
          "output_type": "stream",
          "name": "stdout",
          "text": [
            "Combined CSV file has been created: combined_gas_btc_eth_prices_last_90_days.csv\n"
          ]
        }
      ],
      "source": [
        "import requests\n",
        "import pandas as pd\n",
        "from datetime import datetime, timedelta\n",
        "\n",
        "# Function to get gas price data for the last 90 days\n",
        "def get_gas_price_data():\n",
        "    end_timestamp = int(datetime.now().timestamp())  # Current time\n",
        "    start_timestamp = int((datetime.now() - timedelta(days=180)).timestamp())  # Time 90 days ago\n",
        "\n",
        "    # Fetch gas price data from Owlracle API\n",
        "    url = f'https://api.owlracle.info/v3/eth/history?to={end_timestamp}&from={start_timestamp}&timeframe=60&candles=1000'\n",
        "    res = requests.get(url)\n",
        "\n",
        "    if res.status_code == 200:\n",
        "        data = res.json()\n",
        "    else:\n",
        "        raise Exception(f\"Error fetching gas price data: {res.status_code}\")\n",
        "\n",
        "    df_gas = pd.DataFrame(data)\n",
        "\n",
        "    # Convert 'timestamp' from ISO 8601 string to datetime and localize to UTC if not already localized\n",
        "    df_gas['timestamp'] = pd.to_datetime(df_gas['timestamp'])\n",
        "    if df_gas['timestamp'].dt.tz is None:  # Check if tz is None (timezone-naive)\n",
        "        df_gas['timestamp'] = df_gas['timestamp'].dt.tz_localize('UTC')  # Localizing to UTC\n",
        "\n",
        "    # Expand gasPrice column into separate columns\n",
        "    gas_price_df = pd.json_normalize(df_gas['gasPrice'])  # Extract dictionary into DataFrame\n",
        "    df_gas = df_gas.join(gas_price_df)  # Join the new columns to the original DataFrame\n",
        "\n",
        "    # Drop the original 'gasPrice' column\n",
        "    df_gas = df_gas.drop(columns=['gasPrice'])\n",
        "\n",
        "    return df_gas\n",
        "\n",
        "# Function to get historical price data for BTC and ETH\n",
        "def get_crypto_price_data(crypto_id, vs_currency='usd', days=180):\n",
        "    url = f'https://api.coingecko.com/api/v3/coins/{crypto_id}/market_chart'\n",
        "    params = {\n",
        "        'vs_currency': vs_currency,\n",
        "        'days': days,\n",
        "        'interval': 'daily'\n",
        "    }\n",
        "    res = requests.get(url, params=params)\n",
        "    if res.status_code == 200:\n",
        "        data = res.json()\n",
        "    else:\n",
        "        raise Exception(f\"Error fetching {crypto_id} price data: {res.status_code}\")\n",
        "\n",
        "    # Convert the data into a DataFrame\n",
        "    prices = data['prices']\n",
        "    df_prices = pd.DataFrame(prices, columns=['timestamp', 'price'])\n",
        "\n",
        "    # Convert 'timestamp' from milliseconds to datetime and localize to UTC if not already localized\n",
        "    df_prices['timestamp'] = pd.to_datetime(df_prices['timestamp'], unit='ms')\n",
        "    if df_prices['timestamp'].dt.tz is None:  # Check if tz is None (timezone-naive)\n",
        "        df_prices['timestamp'] = df_prices['timestamp'].dt.tz_localize('UTC')  # Localizing to UTC\n",
        "    return df_prices\n",
        "\n",
        "# Collecting gas price data\n",
        "df_gas = get_gas_price_data()\n",
        "\n",
        "# Collecting BTC and ETH price data\n",
        "df_btc = get_crypto_price_data('bitcoin')\n",
        "df_eth = get_crypto_price_data('ethereum')\n",
        "\n",
        "# Merging all datasets on the timestamp\n",
        "df_combined = pd.merge_asof(\n",
        "    df_gas.sort_values('timestamp'),\n",
        "    df_btc.rename(columns={'price': 'btc_price'}).sort_values('timestamp'),\n",
        "    on='timestamp',\n",
        "    direction='backward'\n",
        ")\n",
        "\n",
        "df_combined = pd.merge_asof(\n",
        "    df_combined,\n",
        "    df_eth.rename(columns={'price': 'eth_price'}).sort_values('timestamp'),\n",
        "    on='timestamp',\n",
        "    direction='backward'\n",
        ")\n",
        "\n",
        "# Save the combined data to a single CSV file\n",
        "df_combined.to_csv('combined_gas_btc_eth_prices_last_90_days.csv', index=False)\n",
        "\n",
        "# Optionally, print a message indicating successful export\n",
        "print(\"Combined CSV file has been created: combined_gas_btc_eth_prices_last_90_days.csv\")\n"
      ]
    },
    {
      "cell_type": "markdown",
      "source": [
        "#Model Creation"
      ],
      "metadata": {
        "id": "DKf2byofnfra"
      }
    },
    {
      "cell_type": "code",
      "source": [
        "import pandas as pd\n",
        "from sklearn.model_selection import train_test_split, cross_val_score\n",
        "from sklearn.preprocessing import StandardScaler\n",
        "from sklearn.ensemble import RandomForestRegressor\n",
        "from sklearn.metrics import mean_squared_error, r2_score\n",
        "\n",
        "# Load the saved CSV file\n",
        "df_combined = pd.read_csv('combined_gas_btc_eth_prices_last_90_days.csv')\n",
        "\n",
        "# Convert timestamp to datetime and extract time-based features\n",
        "df_combined['timestamp'] = pd.to_datetime(df_combined['timestamp'])\n",
        "df_combined['hour'] = df_combined['timestamp'].dt.hour\n",
        "df_combined['day_of_week'] = df_combined['timestamp'].dt.dayofweek\n",
        "\n",
        "# Feature Engineering: Add new features\n",
        "df_combined['price_diff'] = df_combined['close'] - df_combined['open']\n",
        "df_combined['high_low_diff'] = df_combined['high'] - df_combined['low']\n",
        "\n",
        "# Select features and target variable\n",
        "X = df_combined[['samples', 'open', 'close', 'low', 'high', 'btc_price', 'eth_price', 'hour', 'day_of_week', 'price_diff', 'high_low_diff']]\n",
        "y = df_combined['avgGas']\n",
        "\n",
        "# Scale the features\n",
        "scaler = StandardScaler()\n",
        "X_scaled = scaler.fit_transform(X)\n",
        "\n",
        "# Split the data into training and testing sets\n",
        "X_train, X_test, y_train, y_test = train_test_split(X_scaled, y, test_size=0.2, random_state=42)\n",
        "\n",
        "# Initialize and train a Random Forest Regressor model\n",
        "model = RandomForestRegressor(n_estimators=100, random_state=42)\n",
        "model.fit(X_train, y_train)\n",
        "\n",
        "# Make predictions on the test set\n",
        "y_pred = model.predict(X_test)\n",
        "\n",
        "# Evaluate the model\n",
        "mse = mean_squared_error(y_test, y_pred)\n",
        "r2 = r2_score(y_test, y_pred)\n",
        "\n",
        "print(f'Mean Squared Error: {mse}')\n",
        "print(f'R-squared: {r2}')\n",
        "\n",
        "# Print the predictions for inspection\n",
        "predictions_df = pd.DataFrame({'Actual': y_test, 'Predicted': y_pred})\n",
        "print(\"\\nPredictions:\")\n",
        "print(predictions_df.head())\n"
      ],
      "metadata": {
        "colab": {
          "base_uri": "https://localhost:8080/"
        },
        "id": "oEGY6GZTPGg8",
        "outputId": "56cacaa5-0d9d-4b55-9388-ca2ee23b05d0"
      },
      "execution_count": null,
      "outputs": [
        {
          "output_type": "stream",
          "name": "stdout",
          "text": [
            "Mean Squared Error: 71663358.42033212\n",
            "R-squared: 0.5256091290179327\n",
            "\n",
            "Predictions:\n",
            "            Actual      Predicted\n",
            "521   93108.363555   94976.268748\n",
            "737   96801.218848   96007.975860\n",
            "740   98165.916783   96203.441585\n",
            "660   95608.546419   92903.139228\n",
            "411  115883.360675  112416.667929\n"
          ]
        }
      ]
    }
  ]
}